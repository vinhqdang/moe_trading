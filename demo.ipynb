{
 "cells": [
  {
   "cell_type": "markdown",
   "metadata": {},
   "source": [
    "# MOE Trading System Demo\n",
    "\n",
    "This notebook demonstrates how to use the MOE Trading System."
   ]
  },
  {
   "cell_type": "markdown",
   "metadata": {},
   "source": [
    "## Setup\n",
    "\n",
    "First, make sure you've installed all required packages and set up your API keys in `config.json`."
   ]
  },
  {
   "cell_type": "code",
   "execution_count": null,
   "metadata": {},
   "outputs": [],
   "source": [
    "# Import required modules\n",
    "import pandas as pd\n",
    "import numpy as np\n",
    "import matplotlib.pyplot as plt\n",
    "import json\n",
    "import os\n",
    "from datetime import datetime, timedelta\n",
    "\n",
    "# Import MOE system components\n",
    "from expert import Expert\n",
    "from strategies import TrendFollowingExpert, MeanReversionExpert, VolatilityExpert, SentimentExpert\n",
    "from meeting import ExpertMeeting\n",
    "from backtester import Backtester\n",
    "from main import run_moe_system\n",
    "\n",
    "# Verify API keys\n",
    "try:\n",
    "    with open('config.json', 'r') as f:\n",
    "        config = json.load(f)\n",
    "        openai_key = config.get('openai_api_key')\n",
    "        gemini_key = config.get('gemini_api_key')\n",
    "        \n",
    "    if openai_key == \"your_openai_api_key_here\" or gemini_key == \"your_gemini_api_key_here\":\n",
    "        print(\"⚠️ Please update your API keys in config.json\")\n",
    "    else:\n",
    "        print(\"✅ API keys found in config.json\")\n",
    "except Exception as e:\n",
    "    print(f\"❌ Error loading config.json: {e}\")\n"
   ]
  },
  {
   "cell_type": "markdown",
   "metadata": {},
   "source": [
    "## Run the MOE System\n",
    "\n",
    "Let's run the MOE system with 2 rounds and 2 meeting rounds per expert meeting."
   ]
  },
  {
   "cell_type": "code",
   "execution_count": null,
   "metadata": {},
   "outputs": [],
   "source": [
    "# Run with smaller parameters for faster execution\n",
    "results = run_moe_system(\n",
    "    n_rounds=2,\n",
    "    k_meeting_rounds=2,\n",
    "    test_duration_days=10,\n",
    "    training_duration_days=30\n",
    ")\n",
    "\n",
    "print(\"\\nResults Summary:\")\n",
    "print(f\"Round performances: {[f'{p:.2%}' for p in results['round_performances']]}\")\n",
    "print(f\"Average performance: {results['average_performance']:.2%}\")\n",
    "print(f\"Best performance: {results['best_performance']:.2%} (Round {results['best_round']})\")"
   ]
  },
  {
   "cell_type": "markdown",
   "metadata": {},
   "source": [
    "## Compare with S&P 500\n",
    "\n",
    "Now let's compare our MOE system performance with the S&P 500."
   ]
  },
  {
   "cell_type": "code",
   "execution_count": null,
   "metadata": {},
   "outputs": [],
   "source": [
    "import yfinance as yf\n",
    "\n",
    "def get_spy_returns(start_date, end_date):\n",
    "    try:\n",
    "        spy_data = yf.download(\"SPY\", start=start_date, end=end_date)\n",
    "        if len(spy_data) < 2:\n",
    "            return 0.0\n",
    "        first_price = float(spy_data['Close'].iloc[0])\n",
    "        last_price = float(spy_data['Close'].iloc[-1])\n",
    "        return (last_price / first_price) - 1\n",
    "    except Exception as e:\n",
    "        print(f\"Error getting SPY data: {e}\")\n",
    "        return 0.0\n",
    "\n",
    "# Load backtest results to get date ranges\n",
    "spy_returns = []\n",
    "for i in range(len(results['round_performances'])):\n",
    "    try:\n",
    "        with open(f\"backtest_results_round{i+1}.json\", \"r\") as f:\n",
    "            backtest = json.load(f)\n",
    "            start_date = backtest.get(\"start_date\")\n",
    "            end_date = backtest.get(\"end_date\")\n",
    "            if start_date and end_date:\n",
    "                spy_return = get_spy_returns(start_date, end_date)\n",
    "                spy_returns.append(spy_return)\n",
    "    except Exception as e:\n",
    "        print(f\"Error loading backtest results: {e}\")\n",
    "\n",
    "# Create comparison table\n",
    "comparison = pd.DataFrame({\n",
    "    'Round': range(1, len(results['round_performances']) + 1),\n",
    "    'MOE Performance': [f\"{p:.2%}\" for p in results['round_performances']],\n",
    "    'S&P 500 Performance': [f\"{p:.2%}\" for p in spy_returns],\n",
    "    'Difference': [f\"{results['round_performances'][i] - spy_returns[i]:.2%}\" for i in range(len(spy_returns))]\n",
    "})\n",
    "\n",
    "# Add average row\n",
    "comparison.loc[len(comparison)] = [\n",
    "    'Average',\n",
    "    f\"{sum(results['round_performances']) / len(results['round_performances']):.2%}\",\n",
    "    f\"{sum(spy_returns) / len(spy_returns):.2%}\",\n",
    "    f\"{sum(results['round_performances']) / len(results['round_performances']) - sum(spy_returns) / len(spy_returns):.2%}\"\n",
    "]\n",
    "\n",
    "comparison"
   ]
  },
  {
   "cell_type": "markdown",
   "metadata": {},
   "source": [
    "## Visualize Performance\n",
    "\n",
    "Let's create a simple visualization of our MOE system performance compared to S&P 500."
   ]
  },
  {
   "cell_type": "code",
   "execution_count": null,
   "metadata": {},
   "outputs": [],
   "source": [
    "plt.figure(figsize=(12, 6))\n",
    "\n",
    "# Plot round performances\n",
    "rounds = list(range(1, len(results['round_performances']) + 1))\n",
    "plt.bar([r - 0.2 for r in rounds], [p * 100 for p in results['round_performances']], width=0.4, label='MOE Strategy', color='blue')\n",
    "plt.bar([r + 0.2 for r in rounds], [p * 100 for p in spy_returns], width=0.4, label='S&P 500', color='green')\n",
    "\n",
    "plt.xlabel('Round')\n",
    "plt.ylabel('Return (%)')\n",
    "plt.title('MOE vs S&P 500 Performance by Round')\n",
    "plt.xticks(rounds)\n",
    "plt.legend()\n",
    "plt.grid(True, alpha=0.3)\n",
    "\n",
    "plt.tight_layout()\n",
    "plt.show()"
   ]
  },
  {
   "cell_type": "markdown",
   "metadata": {},
   "source": [
    "## Expert Meeting Analysis\n",
    "\n",
    "Let's examine one of the expert meeting logs to see how the experts collaborated."
   ]
  },
  {
   "cell_type": "code",
   "execution_count": null,
   "metadata": {},
   "outputs": [],
   "source": [
    "# Find the most recent meeting log\n",
    "import glob\n",
    "\n",
    "meeting_logs = sorted(glob.glob(\"meeting_log_*.json\"), key=os.path.getmtime, reverse=True)\n",
    "if meeting_logs:\n",
    "    with open(meeting_logs[0], 'r') as f:\n",
    "        meeting = json.load(f)\n",
    "    \n",
    "    # Print first round discussion\n",
    "    if meeting and len(meeting) > 0 and 'discussion' in meeting[0]:\n",
    "        print(f\"Meeting log: {meeting_logs[0]}\")\n",
    "        print(\"\\nFirst round discussion excerpt:\")\n",
    "        discussion = meeting[0]['discussion']\n",
    "        # Print first 500 characters\n",
    "        print(discussion[:500] + \"...\\n\")\n",
    "        \n",
    "        # Print consensus\n",
    "        if 'consensus' in meeting[-1]:\n",
    "            consensus = meeting[-1]['consensus']\n",
    "            print(\"Final Consensus:\")\n",
    "            print(f\"Action: {consensus.get('action')}\")\n",
    "            print(f\"Confidence: {consensus.get('confidence'):.2f}\")\n",
    "            print(f\"Supporting experts: {', '.join(consensus.get('supporting_experts', []))}\")\n",
    "            print(f\"Vote ratio: {consensus.get('vote_ratio', 0):.2f}\")\n",
    "else:\n",
    "    print(\"No meeting logs found.\")"
   ]
  },
  {
   "cell_type": "markdown",
   "metadata": {},
   "source": [
    "## Conclusion\n",
    "\n",
    "This demo shows how the MOE Trading System works:\n",
    "\n",
    "1. Multiple experts analyze the market data independently\n",
    "2. They meet, discuss, and try to reach consensus\n",
    "3. The consensus decision is tested against historical market data\n",
    "4. Experts learn from their performance and improve over time\n",
    "\n",
    "The system's performance can be compared with benchmark indices like the S&P 500 to evaluate its effectiveness."
   ]
  }
 ],
 "metadata": {
  "kernelspec": {
   "display_name": "Python 3",
   "language": "python",
   "name": "python3"
  },
  "language_info": {
   "codemirror_mode": {
    "name": "ipython",
    "version": 3
   },
   "file_extension": ".py",
   "mimetype": "text/x-python",
   "name": "python",
   "nbconvert_exporter": "python",
   "pygments_lexer": "ipython3",
   "version": "3.9.0"
  }
 },
 "nbformat": 4,
 "nbformat_minor": 2
}